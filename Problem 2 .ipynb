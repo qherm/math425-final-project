{
 "cells": [
  {
   "cell_type": "markdown",
   "id": "457bf739",
   "metadata": {},
   "source": [
    "## Math 425 final project problem 2"
   ]
  },
  {
   "cell_type": "code",
   "execution_count": 44,
   "id": "5c775516",
   "metadata": {},
   "outputs": [],
   "source": [
    "import numpy as np\n",
    "import numpy.linalg as la\n",
    "\n",
    "import matplotlib as plt\n",
    "import vec\n",
    "from vec import Vec\n",
    "from vecutil import vec2list\n",
    "from sympy import Matrix"
   ]
  },
  {
   "cell_type": "code",
   "execution_count": 8,
   "id": "29882dc0",
   "metadata": {},
   "outputs": [],
   "source": [
    "# %load efficient_cancer_data.py\n",
    "# Copyright 2013 Philip N. Klein\n",
    "\n",
    "\n",
    "def read_training_data(fname, D=None):\n",
    "    \"\"\"Given a file in appropriate format, and given a set D of features,\n",
    "    returns the pair (A, b) consisting of\n",
    "    a P-by-D matrix A and a P-vector b,\n",
    "    where P is a set of patient identification integers (IDs).\n",
    "\n",
    "    For each patient ID p,\n",
    "      - row p of A is the D-vector describing patient p's tissue sample,\n",
    "      - entry p of b is +1 if patient p's tissue is malignant, and -1 if it is benign.\n",
    "\n",
    "    The set D of features must be a subset of the features in the data (see text).\n",
    "    \"\"\"\n",
    "    file = open(fname)\n",
    "    params = [\"radius\", \"texture\", \"perimeter\",\"area\",\"smoothness\",\"compactness\",\"concavity\",\"concave points\",\"symmetry\",\"fractal dimension\"];\n",
    "    stats = [\"(mean)\", \"(stderr)\", \"(worst)\"]\n",
    "    feature_labels = set([y+x for x in stats for y in params])\n",
    "    feature_map = {params[i]+stats[j]:j*len(params)+i for i in range(len(params)) for j in range(len(stats))}\n",
    "    if D is None: D = feature_labels\n",
    "    feature_vectors = {}\n",
    "    #patient_diagnoses = {}\n",
    "    A = []\n",
    "    b = []\n",
    "    for line in file:\n",
    "        row = line.split(\",\")\n",
    "        patient_ID = int(row[0])\n",
    "        b.append(-1) if row[1] == 'B' else b.append(1)\n",
    "        feature_vectors[patient_ID] = Vec(D, {f:float(row[feature_map[f]+2]) for f in D})\n",
    "        A.append(vec2list(feature_vectors[patient_ID]))\n",
    "    return Matrix(A), Matrix(b)\n",
    "        "
   ]
  },
  {
   "cell_type": "code",
   "execution_count": 9,
   "id": "fc5591aa",
   "metadata": {},
   "outputs": [],
   "source": [
    "def classifier(x):\n",
    "    n,m=np.shape(x)\n",
    "    for i in range(n):\n",
    "        for j in range(m):\n",
    "            if x[i][j]>=0:\n",
    "                x[i][j]=1\n",
    "            else:\n",
    "                x[i][j]=-1\n",
    "    return x "
   ]
  },
  {
   "cell_type": "code",
   "execution_count": 10,
   "id": "777c232f",
   "metadata": {},
   "outputs": [],
   "source": [
    "def compare_norms(x,y):\n",
    "    x_norm=la.norm(x)\n",
    "    y_norm=la.norm(y)\n",
    "    #display difference\n",
    "    print(\"Norm 1:\",x_norm,\" Norm 2:\",y_norm)\n",
    "    print(\"Difference:\",np.abs(x_norm-y_norm),\"\\n\")"
   ]
  },
  {
   "cell_type": "code",
   "execution_count": 11,
   "id": "e97d885e",
   "metadata": {
    "scrolled": true
   },
   "outputs": [
    {
     "data": {
      "text/latex": [
       "$\\hat{x}=R^{-1}Q^Tb$\n"
      ],
      "text/plain": [
       "<IPython.core.display.Latex object>"
      ]
     },
     "metadata": {},
     "output_type": "display_data"
    }
   ],
   "source": [
    "%%latex\n",
    "$\\hat{x}=R^{-1}Q^Tb$"
   ]
  },
  {
   "cell_type": "code",
   "execution_count": 42,
   "id": "3c3d7b6d",
   "metadata": {
    "scrolled": true
   },
   "outputs": [
    {
     "name": "stdout",
     "output_type": "stream",
     "text": [
      "pre classification\n",
      "Norm 1: 17.320508075688775  Norm 2: 14.91641676261171\n",
      "Difference: 2.404091313077064 \n",
      "\n",
      "post classification\n",
      "Norm 1: 17.320508075688775  Norm 2: 17.320508075688775\n",
      "Difference: 0.0 \n",
      "\n",
      "row: 38 bhat: -1.0 b: 1.0\n",
      "row: 40 bhat: -1.0 b: 1.0\n",
      "row: 73 bhat: -1.0 b: 1.0\n",
      "row: 81 bhat: 1.0 b: -1.0\n",
      "row: 91 bhat: -1.0 b: 1.0\n",
      "row: 135 bhat: -1.0 b: 1.0\n",
      "row: 184 bhat: -1.0 b: 1.0\n",
      "row: 190 bhat: -1.0 b: 1.0\n",
      "row: 197 bhat: -1.0 b: 1.0\n",
      "row: 215 bhat: -1.0 b: 1.0\n",
      "row: 255 bhat: -1.0 b: 1.0\n",
      "row: 261 bhat: -1.0 b: 1.0\n",
      "row: 263 bhat: -1.0 b: 1.0\n",
      "row: 297 bhat: -1.0 b: 1.0\n",
      "false positives: 14\n"
     ]
    }
   ],
   "source": [
    "#Read values from files\n",
    "At,bt=read_training_data('train.data')\n",
    "#print(At)\n",
    "\n",
    "#store data as numpy arrays because sympy is less mutable\n",
    "\n",
    "At=np.array(At).astype(np.float64)\n",
    "bt=np.array(bt).astype(np.float64)\n",
    "\n",
    "#calc QR\n",
    "Q,R=la.qr(At)\n",
    "\n",
    "#xhat =R^-1Q^tb\n",
    "xhat=np.matmul(np.matmul(la.inv(R),Q.T),bt)\n",
    "#xhat=np.matmul(la.inv(R),Q.T)\n",
    "#xhat=np.matmul(xhat,bt)\n",
    "\n",
    "#Compute bhat\n",
    "bhat=np.matmul(At,xhat)\n",
    "print(\"pre classification\")\n",
    "compare_norms(bt,bhat)\n",
    "print(\"post classification\")\n",
    "bhat=classifier(bhat)\n",
    "compare_norms(bt,bhat)\n",
    "print(\"false positives:\",count_false_positives(bt,bhat))\n"
   ]
  },
  {
   "cell_type": "markdown",
   "id": "81cf2fc9",
   "metadata": {},
   "source": [
    "$\\hat{x}=(A^TA)^{-1}A^Tb$"
   ]
  },
  {
   "cell_type": "code",
   "execution_count": 43,
   "id": "acac103f",
   "metadata": {},
   "outputs": [
    {
     "name": "stdout",
     "output_type": "stream",
     "text": [
      "pre classification\n",
      "Norm 1: 17.320508075688775  Norm 2: 14.916416762617274\n",
      "Difference: 2.4040913130715005 \n",
      "\n",
      "post classification\n",
      "Norm 1: 17.320508075688775  Norm 2: 17.320508075688775\n",
      "Difference: 0.0 \n",
      "\n",
      "row: 38 bhat: -1.0 b: 1.0\n",
      "row: 40 bhat: -1.0 b: 1.0\n",
      "row: 73 bhat: -1.0 b: 1.0\n",
      "row: 81 bhat: 1.0 b: -1.0\n",
      "row: 91 bhat: -1.0 b: 1.0\n",
      "row: 135 bhat: -1.0 b: 1.0\n",
      "row: 184 bhat: -1.0 b: 1.0\n",
      "row: 190 bhat: -1.0 b: 1.0\n",
      "row: 197 bhat: -1.0 b: 1.0\n",
      "row: 215 bhat: -1.0 b: 1.0\n",
      "row: 255 bhat: -1.0 b: 1.0\n",
      "row: 261 bhat: -1.0 b: 1.0\n",
      "row: 263 bhat: -1.0 b: 1.0\n",
      "row: 297 bhat: -1.0 b: 1.0\n",
      "false positives: 14\n"
     ]
    }
   ],
   "source": [
    "#Read values from files\n",
    "At,bt=read_training_data('train.data')\n",
    "#print(At)\n",
    "\n",
    "#store data as numpy arrays because sympy is less mutable\n",
    "\n",
    "At=np.array(At).astype(np.float64)\n",
    "bt=np.array(bt).astype(np.float64)\n",
    "\n",
    "xhat=np.matmul(np.matmul(la.inv(np.matmul(At.T,At)),At.T),bt)\n",
    "bhat=np.matmul(At,xhat)\n",
    "print(\"pre classification\")\n",
    "compare_norms(bt,bhat)\n",
    "print(\"post classification\")\n",
    "bhat=classifier(bhat)\n",
    "compare_norms(bt,bhat)\n",
    "print(\"false positives:\",count_false_positives(bt,bhat))\n"
   ]
  },
  {
   "cell_type": "code",
   "execution_count": 45,
   "id": "9885b733",
   "metadata": {},
   "outputs": [],
   "source": [
    "def count_false_positives(b,bhat):\n",
    "    count=0\n",
    "    for i in range(np.shape(b)[0]):\n",
    "            if bhat[i][0]+b[i][0]==0 :\n",
    "                print(\"row:\",i,\"bhat:\",bhat[i][0],\"b:\",b[i][0])\n",
    "                count+=1\n",
    "    return count"
   ]
  },
  {
   "cell_type": "code",
   "execution_count": 46,
   "id": "94e863a7",
   "metadata": {},
   "outputs": [
    {
     "name": "stdout",
     "output_type": "stream",
     "text": [
      "pre classification\n",
      "Norm 1: 16.1245154965971  Norm 2: 13.29965189113135\n",
      "Difference: 2.8248636054657474 \n",
      "\n",
      "post classification\n",
      "Norm 1: 16.1245154965971  Norm 2: 16.1245154965971\n",
      "Difference: 0.0 \n",
      "\n",
      "row: 29 bhat: -1.0 b: 1.0\n",
      "row: 47 bhat: 1.0 b: -1.0\n",
      "row: 113 bhat: 1.0 b: -1.0\n",
      "row: 155 bhat: 1.0 b: -1.0\n",
      "row: 165 bhat: 1.0 b: -1.0\n",
      "row: 171 bhat: 1.0 b: -1.0\n",
      "row: 214 bhat: -1.0 b: 1.0\n",
      "row: 241 bhat: 1.0 b: -1.0\n",
      "false positives: 8\n"
     ]
    }
   ],
   "source": [
    "#Load data \n",
    "Av,bv=read_training_data('validate.data')\n",
    "Av=np.array(Av).astype(np.float64)\n",
    "bv=np.array(bv).astype(np.float64)\n",
    "\n",
    "#Compute bhat\n",
    "bhat=np.matmul(Av,xhat)\n",
    "\n",
    "#test norms \n",
    "print(\"pre classification\")\n",
    "compare_norms(bv,bhat)\n",
    "print(\"post classification\")\n",
    "bhat=classifier(bhat)\n",
    "compare_norms(bv,bhat)\n",
    "\n",
    "print(\"false positives:\",count_false_positives(bv,bhat))\n",
    "\n"
   ]
  },
  {
   "cell_type": "code",
   "execution_count": null,
   "id": "38da1da7",
   "metadata": {},
   "outputs": [],
   "source": []
  }
 ],
 "metadata": {
  "kernelspec": {
   "display_name": "Python 3 (ipykernel)",
   "language": "python",
   "name": "python3"
  },
  "language_info": {
   "codemirror_mode": {
    "name": "ipython",
    "version": 3
   },
   "file_extension": ".py",
   "mimetype": "text/x-python",
   "name": "python",
   "nbconvert_exporter": "python",
   "pygments_lexer": "ipython3",
   "version": "3.9.5"
  }
 },
 "nbformat": 4,
 "nbformat_minor": 5
}
