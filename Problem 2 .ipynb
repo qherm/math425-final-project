{
 "cells": [
  {
   "cell_type": "markdown",
   "id": "457bf739",
   "metadata": {},
   "source": [
    "## Math 425 final project problem 2"
   ]
  },
  {
   "cell_type": "markdown",
   "id": "fa0be870",
   "metadata": {},
   "source": [
    "You are given part of the Wisconsin Diagnostic Breast Cancer (WDBC) dataset1\n",
    ". For each patient, you are given a vector a giving features computed from digitized images of a fine\n",
    "needle aspirate (FNA) of a breast mass for that patient. The features describe characteristics\n",
    "of the cell nuclei present in the image. The goal is to decide whether the cells are malignant\n",
    "or benign.\n",
    "\n",
    "Here is a brief description of the way the features were computed. Ten real-valued\n",
    "quantities are computed for each cell nucleus:\n",
    "\n",
    "• radius ( mean of distances from center to points on the perimeter)\n",
    "\n",
    "• texture (standard deviation of gray-scale values)\n",
    "\n",
    "• perimeter\n",
    "\n",
    "• area\n",
    "\n",
    "• smoothness (local variation in radius lengths)\n",
    "\n",
    "• compactness (perimeter2/ area - 1.0)\n",
    "\n",
    "• concavity (severity of concave portions of the contour)\n",
    "\n",
    "• concave points (number of concave portions of the contour)\n",
    "\n",
    "• symmetry\n",
    "\n",
    "• fractal dimension (“coastline approximation” - 1)\n",
    "\n",
    "\n",
    "The mean, standard error (stderr), and a measure of the largest (worst) (mean of the largest\n",
    "values) of each of the features were computed for each image. Thus each specimen is represented by a vector a with thirty entries. The domain D consists of thirty strings identifying these features, e.g. ‘‘radius (mean)\", ‘‘ radius (stderr)\", ‘‘radius (worst)\",\n",
    "1\n",
    "\n",
    "(https://archive.ics.uci.edu/ml/datasets/Breast+Cancer+Wisconsin+(Diagnostic))\n",
    "‘‘area (mean)\", and so on. Two files are provided containing data, train.data and\n",
    "validate.data. Also provided is the module efficient cancer data.\n",
    "The procedure in read training data in the efficient cancer data module takes a single\n",
    "argument, a string giving the pathname of a file. It reads the data in the specified file and\n",
    "returns a pair (A, b) where:\n",
    "\n",
    "• A is a matrix whose rows correspond to the data for each patient in the data set. The\n",
    "elements in a row correspond to the 30 features measured for a patient.\n",
    "• b is a vector whose domain is the set of patients and b[r] is 1 if the specimen of patient\n",
    "r is malignant and it’s -1 if the specimen is benign.\n",
    "\n",
    "Use read training data to read the data in the file train.data into the variables A, b.\n",
    "(a) Use the QR algorithm to find the least-squares linear model for the data.\n",
    "(b) Apply the linear model from (a) to the data set validate.data and predict the malignancy of the tissues. \n",
    "\n",
    "You will have to define a classifier function\n",
    "C(y) = (+1 if the prediction is non-negative,−1 otherwise\n",
    "(c) What is the percentage of samples that are incorrectly classified? Is it greater or\n",
    "smaller than the success rate on the training data?\n"
   ]
  },
  {
   "cell_type": "code",
   "execution_count": 1,
   "id": "5c775516",
   "metadata": {},
   "outputs": [],
   "source": [
    "import numpy as np\n",
    "import numpy.linalg as la\n",
    "import matplotlib as plt\n",
    "import vec\n",
    "from vec import Vec\n",
    "from vecutil import vec2list\n",
    "from sympy import Matrix"
   ]
  },
  {
   "cell_type": "code",
   "execution_count": 2,
   "id": "29882dc0",
   "metadata": {},
   "outputs": [],
   "source": [
    "# %load efficient_cancer_data.py\n",
    "# Copyright 2013 Philip N. Klein\n",
    "\n",
    "\n",
    "def read_training_data(fname, D=None):\n",
    "    \"\"\"Given a file in appropriate format, and given a set D of features,\n",
    "    returns the pair (A, b) consisting of\n",
    "    a P-by-D matrix A and a P-vector b,\n",
    "    where P is a set of patient identification integers (IDs).\n",
    "\n",
    "    For each patient ID p,\n",
    "      - row p of A is the D-vector describing patient p's tissue sample,\n",
    "      - entry p of b is +1 if patient p's tissue is malignant, and -1 if it is benign.\n",
    "\n",
    "    The set D of features must be a subset of the features in the data (see text).\n",
    "    \"\"\"\n",
    "    file = open(fname)\n",
    "    params = [\"radius\", \"texture\", \"perimeter\",\"area\",\"smoothness\",\"compactness\",\"concavity\",\"concave points\",\"symmetry\",\"fractal dimension\"];\n",
    "    stats = [\"(mean)\", \"(stderr)\", \"(worst)\"]\n",
    "    feature_labels = set([y+x for x in stats for y in params])\n",
    "    feature_map = {params[i]+stats[j]:j*len(params)+i for i in range(len(params)) for j in range(len(stats))}\n",
    "    if D is None: D = feature_labels\n",
    "    feature_vectors = {}\n",
    "    #patient_diagnoses = {}\n",
    "    A = []\n",
    "    b = []\n",
    "    for line in file:\n",
    "        row = line.split(\",\")\n",
    "        patient_ID = int(row[0])\n",
    "        b.append(-1) if row[1] == 'B' else b.append(1)\n",
    "        feature_vectors[patient_ID] = Vec(D, {f:float(row[feature_map[f]+2]) for f in D})\n",
    "        A.append(vec2list(feature_vectors[patient_ID]))\n",
    "    return Matrix(A), Matrix(b)\n",
    "        "
   ]
  },
  {
   "cell_type": "markdown",
   "id": "d1254220",
   "metadata": {},
   "source": [
    "    $$\\hat{x}=R^{-1}Q^Tb$$"
   ]
  },
  {
   "cell_type": "code",
   "execution_count": 35,
   "id": "fc5591aa",
   "metadata": {},
   "outputs": [],
   "source": [
    "def classifier(x):\n",
    "    n,m=np.shape(x)\n",
    "    for i in range(n):\n",
    "        for j in range(m):\n",
    "            if x[i][j]>=0:\n",
    "                x[i][j]=1\n",
    "            else:\n",
    "                x[i][j]=-1\n",
    "    return x "
   ]
  },
  {
   "cell_type": "code",
   "execution_count": 53,
   "id": "777c232f",
   "metadata": {},
   "outputs": [],
   "source": [
    "def compare_norms(x,y):\n",
    "    x_norm=la.norm(x)\n",
    "    y_norm=la.norm(y)\n",
    "    #display difference\n",
    "    print(\"Norm 1:\",x_norm,\" Norm 2:\",y_norm)\n",
    "    print(\"Difference:\",np.abs(x_norm-y_norm),\"\\n\")"
   ]
  },
  {
   "cell_type": "code",
   "execution_count": 54,
   "id": "3c3d7b6d",
   "metadata": {},
   "outputs": [
    {
     "data": {
      "text/plain": [
       "'\\n#Compute bhat\\nbhat=np.matmul(At,xhat)\\nprint(\"pre classification\")\\ncompare_norms(bt,bhat)\\nprint(\"post classification\")\\nbhat=classifier(bhat)\\ncompare_norms(bt,bhat)\\nprint(\"false positives:\",count_false_positives(bv,bhat))\\n'"
      ]
     },
     "execution_count": 54,
     "metadata": {},
     "output_type": "execute_result"
    }
   ],
   "source": [
    "#Read values from files\n",
    "At,bt=read_training_data('train.data')\n",
    "\n",
    "#store data as numpy arrays because sympy is less mutable\n",
    "\n",
    "At=np.array(At).astype(np.float64)\n",
    "bt=np.array(bt).astype(np.float64)\n",
    "\n",
    "#calc QR\n",
    "Q,R=np.linalg.qr(At)\n",
    "\n",
    "#xhat =R^-1Q^tb\n",
    "xhat=np.matmul(la.inv(R),Q.T)\n",
    "xhat=np.matmul(xhat,bt)\n",
    "\"\"\"\n",
    "Compute bhat\n",
    "bhat=np.matmul(At,xhat)\n",
    "print(\"pre classification\")\n",
    "compare_norms(bt,bhat)\n",
    "print(\"post classification\")\n",
    "bhat=classifier(bhat)\n",
    "compare_norms(bt,bhat)\n",
    "print(\"false positives:\",count_false_positives(bv,bhat))\n",
    "\"\"\""
   ]
  },
  {
   "cell_type": "code",
   "execution_count": 55,
   "id": "9885b733",
   "metadata": {},
   "outputs": [],
   "source": [
    "def count_false_positives(b,bhat):\n",
    "    count=0\n",
    "    for i in range(np.shape(b)[0]):\n",
    "            if bhat[i][0]==1 and b[i][0]==-1:\n",
    "                print(\"row:\",i,\"bhat:\",bhat[i][0],\"b:\",b[i][0])\n",
    "                count+=1\n",
    "    return count"
   ]
  },
  {
   "cell_type": "code",
   "execution_count": 56,
   "id": "94e863a7",
   "metadata": {},
   "outputs": [
    {
     "name": "stdout",
     "output_type": "stream",
     "text": [
      "pre classification\n",
      "Norm 1: 16.1245154965971  Norm2: 13.299651891118701\n",
      "Difference: 2.824863605478397 \n",
      "\n",
      "post classification\n",
      "Norm 1: 16.1245154965971  Norm2: 16.1245154965971\n",
      "Difference: 0.0 \n",
      "\n",
      "row: 47 bhat: 1.0 b: -1.0\n",
      "row: 113 bhat: 1.0 b: -1.0\n",
      "row: 155 bhat: 1.0 b: -1.0\n",
      "row: 165 bhat: 1.0 b: -1.0\n",
      "row: 171 bhat: 1.0 b: -1.0\n",
      "row: 241 bhat: 1.0 b: -1.0\n",
      "false positives: 6\n"
     ]
    }
   ],
   "source": [
    "#Load data \n",
    "Av,bv=read_training_data('validate.data')\n",
    "Av=np.array(Av).astype(np.float64)\n",
    "bv=np.array(bv).astype(np.float64)\n",
    "\n",
    "bhat=np.matmul(Av,xhat)\n",
    "\n",
    "#Compute bhat\n",
    "bhat=np.matmul(Av,xhat)\n",
    "\n",
    "#test norms \n",
    "print(\"pre classification\")\n",
    "compare_norms(bv,bhat)\n",
    "print(\"post classification\")\n",
    "bhat=classifier(bhat)\n",
    "compare_norms(bv,bhat)\n",
    "\n",
    "print(\"false positives:\",count_false_positives(bv,bhat))\n",
    "\n"
   ]
  },
  {
   "cell_type": "code",
   "execution_count": null,
   "id": "38da1da7",
   "metadata": {},
   "outputs": [],
   "source": []
  }
 ],
 "metadata": {
  "kernelspec": {
   "display_name": "Python 3 (ipykernel)",
   "language": "python",
   "name": "python3"
  },
  "language_info": {
   "codemirror_mode": {
    "name": "ipython",
    "version": 3
   },
   "file_extension": ".py",
   "mimetype": "text/x-python",
   "name": "python",
   "nbconvert_exporter": "python",
   "pygments_lexer": "ipython3",
   "version": "3.9.5"
  }
 },
 "nbformat": 4,
 "nbformat_minor": 5
}
