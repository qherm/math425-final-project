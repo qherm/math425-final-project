{
 "cells": [
  {
   "cell_type": "code",
   "execution_count": 7,
   "id": "10480659",
   "metadata": {},
   "outputs": [],
   "source": [
    "import numpy as np \n",
    "from matplotlib import pyplot as plt\n",
    "import sympy as sy\n",
    "import seaborn as sns\n",
    "sy.init_printing()"
   ]
  },
  {
   "cell_type": "code",
   "execution_count": 10,
   "id": "bb3500a8",
   "metadata": {},
   "outputs": [
    {
     "data": {
      "image/png": "[encoded data removed]",
      "text/latex": [
       "$\\displaystyle \\left[\\begin{array}{ccccccccccc}0.3036 & 0.6168 & 0.7128 & 0.712 & 0.9377 & 0.712 & 0.3989 & 0.3028 & 0.3036 & 0.5293 & 0.3036\\\\0.196 & 0.2977 & 0.4169 & 0.196 & 0.262 & 0.568 & 0.6697 & 0.7889 & 0.568 & 0.502 & 0.196\\\\1 & 1 & 1 & 1 & 1 & 1 & 1 & 1 & 1 & 1 & 1\\end{array}\\right]$"
      ],
      "text/plain": [
       "⎡0.3036  0.6168  0.7128  0.712  0.9377  0.712  0.3989  0.3028  0.3036  0.5293 \n",
       "⎢                                                                             \n",
       "⎢0.196   0.2977  0.4169  0.196  0.262   0.568  0.6697  0.7889  0.568   0.502  \n",
       "⎢                                                                             \n",
       "⎣  1       1       1       1      1       1      1       1       1       1    \n",
       "\n",
       " 0.3036⎤\n",
       "       ⎥\n",
       " 0.196 ⎥\n",
       "       ⎥\n",
       "   1   ⎦"
      ]
     },
     "execution_count": 10,
     "metadata": {},
     "output_type": "execute_result"
    }
   ],
   "source": [
    "# (0.3036, 0.1960), (0.6168, 0.2977), (0.7128,\n",
    "# 0.4169), (0.7120, 0.1960), (0.9377, 0.2620), (0.7120, 0.5680), (0.3989, 0.6697), (0.3028,\n",
    "# 0.7889), (0.3036, 0.5680), and (0.5293, 0.5020).\n",
    "\n",
    "\n",
    "\n",
    "# added last vector to connect first and last point\n",
    "x=[0.3036,0.6168,0.7128,0.7120,0.9377,0.7120,0.3989,0.3028,0.3036,0.5293]\n",
    "y=[0.1960,0.2977,0.4169,0.1960,0.2620,0.5680,0.6697,0.7889,0.5680,0.5020]\n",
    "A = sy.Matrix([\n",
    "    x,\n",
    "    y,\n",
    "    [1]*11\n",
    "])\n",
    "A\n",
    "#plt.matshow(xy,interpolation = 'nearest')\n",
    "#val_xdim, val_ydim = xy.shape\n",
    "\n",
    "#min_val, max_val = 0, np.shape(xy)[0]\n",
    "\n",
    "#cm = sns.light_palette(\"red\", as_cmap=True)\n",
    "#print(cm)\n",
    "\n",
    "# print(x,y)\n",
    "# print(np.shape(xy))\n",
    "# plt.plot(x,y, 'k-,')"
   ]
  },
  {
   "cell_type": "code",
   "execution_count": null,
   "id": "f1823180",
   "metadata": {},
   "outputs": [],
   "source": []
  }
 ],
 "metadata": {
  "kernelspec": {
   "display_name": "Python 3 (ipykernel)",
   "language": "python",
   "name": "python3"
  },
  "language_info": {
   "codemirror_mode": {
    "name": "ipython",
    "version": 3
   },
   "file_extension": ".py",
   "mimetype": "text/x-python",
   "name": "python",
   "nbconvert_exporter": "python",
   "pygments_lexer": "ipython3",
   "version": "3.10.0"
  }
 },
 "nbformat": 4,
 "nbformat_minor": 5
}
