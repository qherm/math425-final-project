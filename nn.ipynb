{
 "cells": [
  {
   "cell_type": "code",
   "execution_count": 8,
   "metadata": {},
   "outputs": [],
   "source": [
    "import tensorflow as tf\n",
    "import keras\n",
    "import numpy as np\n",
    "import numpy.linalg as la\n",
    "\n",
    "import matplotlib.pyplot as plt\n",
    "import matplotlib as mpl\n",
    "import vec\n",
    "from vec import Vec\n",
    "from vecutil import vec2list\n",
    "from sympy import Matrix"
   ]
  },
  {
   "cell_type": "code",
   "execution_count": 2,
   "metadata": {},
   "outputs": [],
   "source": [
    "def build_model():\n",
    "    model = keras.Sequential([\n",
    "        keras.layers.Dense(500, activation=\"relu\"),\n",
    "        keras.layers.Dense(500, activation=\"relu\"),\n",
    "        keras.layers.Dense(500, activation=\"relu\"),\n",
    "        keras.layers.Dense(1, activation=\"sigmoid\")\n",
    "    ])\n",
    "    return model"
   ]
  },
  {
   "cell_type": "code",
   "execution_count": 9,
   "metadata": {},
   "outputs": [],
   "source": [
    "def plot_train_vs_validation_loss(history, start, end):\n",
    "    import matplotlib.pyplot as plt\n",
    "    history_dict = history.history\n",
    "    loss = history_dict['loss']\n",
    "    loss = loss[start:end]\n",
    "    validation_loss = history_dict['val_loss']\n",
    "    validation_loss = validation_loss[start:end]\n",
    "    epochs = range(1, len(loss)+1)\n",
    "    plt.plot(epochs, loss, \"yo\", label=\"Training loss\")\n",
    "    plt.plot(epochs, validation_loss, \"r\", label=\"Validation loss\")\n",
    "    plt.title(\"Training and validation loss\")\n",
    "    plt.xlabel(\"Epochs\")\n",
    "    plt.ylabel(\"Loss\")\n",
    "    plt.legend()\n",
    "    plt.show()\n",
    "\n",
    "def plot_train_vs_validation_accuracy(history, start, end):\n",
    "    import matplotlib.pyplot as plt\n",
    "    history_dict = history.history\n",
    "    acc = history_dict['accuracy']\n",
    "    acc = acc[start:end]\n",
    "    val_acc = history_dict['val_accuracy']\n",
    "    val_acc = val_acc[start:end]\n",
    "    epochs = range(1, len(acc)+1)\n",
    "    plt.plot(epochs, acc, \"go\", label=\"Training Accuracy\")\n",
    "    plt.plot(epochs, val_acc, \"b\", label=\"Validation Accuracy\")\n",
    "    plt.xlabel(\"Epochs\")\n",
    "    plt.ylabel(\"Accuracy\")\n",
    "    plt.legend()\n",
    "    plt.show()"
   ]
  },
  {
   "cell_type": "code",
   "execution_count": 4,
   "metadata": {},
   "outputs": [],
   "source": [
    "# %load efficient_cancer_data.py\n",
    "# Copyright 2013 Philip N. Klein\n",
    "\n",
    "def read_training_data(fname, D=None):\n",
    "    \"\"\"Given a file in appropriate format, and given a set D of features,\n",
    "    returns the pair (A, b) consisting of\n",
    "    a P-by-D matrix A and a P-vector b,\n",
    "    where P is a set of patient identification integers (IDs).\n",
    "\n",
    "    For each patient ID p,\n",
    "      - row p of A is the D-vector describing patient p's tissue sample,\n",
    "      - entry p of b is +1 if patient p's tissue is malignant, and -1 if it is benign.\n",
    "\n",
    "    The set D of features must be a subset of the features in the data (see text).\n",
    "    \"\"\"\n",
    "    file = open(fname)\n",
    "    params = [\"radius\", \"texture\", \"perimeter\",\"area\",\"smoothness\",\"compactness\",\"concavity\",\"concave points\",\"symmetry\",\"fractal dimension\"];\n",
    "    stats = [\"(mean)\", \"(stderr)\", \"(worst)\"]\n",
    "    feature_labels = set([y+x for x in stats for y in params])\n",
    "    feature_map = {params[i]+stats[j]:j*len(params)+i for i in range(len(params)) for j in range(len(stats))}\n",
    "    if D is None: D = feature_labels\n",
    "    feature_vectors = {}\n",
    "    #patient_diagnoses = {}\n",
    "    A = []\n",
    "    b = []\n",
    "    for line in file:\n",
    "        row = line.split(\",\")\n",
    "        patient_ID = int(row[0])\n",
    "        b.append(-1) if row[1] == 'B' else b.append(1)\n",
    "        feature_vectors[patient_ID] = Vec(D, {f:float(row[feature_map[f]+2]) for f in D})\n",
    "        A.append(vec2list(feature_vectors[patient_ID]))\n",
    "    return Matrix(A), Matrix(b)\n",
    "        "
   ]
  },
  {
   "cell_type": "code",
   "execution_count": 14,
   "metadata": {},
   "outputs": [],
   "source": [
    "train_data, train_labels=read_training_data('train.data')\n",
    "test_data, test_labels=read_training_data('validate.data')\n",
    "\n",
    "# replace -1 with 0 in labels for sigmoid preparation\n",
    "train_labels = [label if label == 1 else 0 for label in train_labels]\n",
    "test_labels = [label if label == 1 else 0 for label in test_labels]\n",
    "\n",
    "train_data = np.array(train_data).astype(np.float32)\n",
    "train_labels = np.array(train_labels).astype(np.float32)\n",
    "\n",
    "test_data = np.array(test_data).astype(np.float32)\n",
    "test_labels = np.array(test_labels).astype(np.float32)\n",
    "\n",
    "# standardize data\n",
    "train_data = (train_data - train_data.mean())/train_data.std()\n",
    "test_data = (test_data - test_data.mean())/test_data.std()"
   ]
  },
  {
   "cell_type": "code",
   "execution_count": 15,
   "metadata": {},
   "outputs": [
    {
     "data": {
      "text/plain": [
       "((300, 30), (260, 30))"
      ]
     },
     "execution_count": 15,
     "metadata": {},
     "output_type": "execute_result"
    }
   ],
   "source": [
    "train_data.shape, test_data.shape"
   ]
  },
  {
   "cell_type": "code",
   "execution_count": 32,
   "metadata": {},
   "outputs": [
    {
     "name": "stdout",
     "output_type": "stream",
     "text": [
      "Epoch 1/100\n",
      "1/3 [=========>....................] - ETA: 0s - loss: 0.7787 - accuracy: 0.4375"
     ]
    },
    {
     "name": "stderr",
     "output_type": "stream",
     "text": [
      "2022-04-29 15:21:34.937499: I tensorflow/core/grappler/optimizers/custom_graph_optimizer_registry.cc:113] Plugin optimizer for device_type GPU is enabled.\n"
     ]
    },
    {
     "name": "stdout",
     "output_type": "stream",
     "text": [
      "3/3 [==============================] - 1s 87ms/step - loss: 0.7043 - accuracy: 0.4333 - val_loss: 0.7250 - val_accuracy: 0.2692\n",
      "Epoch 2/100\n",
      "3/3 [==============================] - 0s 19ms/step - loss: 0.5414 - accuracy: 0.6767 - val_loss: 0.5343 - val_accuracy: 0.7885\n",
      "Epoch 3/100\n",
      "3/3 [==============================] - 0s 20ms/step - loss: 0.4235 - accuracy: 0.9067 - val_loss: 0.4362 - val_accuracy: 0.8269\n",
      "Epoch 4/100\n",
      "1/3 [=========>....................] - ETA: 0s - loss: 0.3427 - accuracy: 0.9297"
     ]
    },
    {
     "name": "stderr",
     "output_type": "stream",
     "text": [
      "2022-04-29 15:21:35.195649: I tensorflow/core/grappler/optimizers/custom_graph_optimizer_registry.cc:113] Plugin optimizer for device_type GPU is enabled.\n"
     ]
    },
    {
     "name": "stdout",
     "output_type": "stream",
     "text": [
      "3/3 [==============================] - 0s 20ms/step - loss: 0.3075 - accuracy: 0.9033 - val_loss: 0.3576 - val_accuracy: 0.8538\n",
      "Epoch 5/100\n",
      "3/3 [==============================] - 0s 19ms/step - loss: 0.2410 - accuracy: 0.9067 - val_loss: 0.3885 - val_accuracy: 0.8385\n",
      "Epoch 6/100\n",
      "3/3 [==============================] - 0s 22ms/step - loss: 0.2136 - accuracy: 0.9000 - val_loss: 0.5965 - val_accuracy: 0.7769\n",
      "Epoch 7/100\n",
      "3/3 [==============================] - 0s 27ms/step - loss: 0.2207 - accuracy: 0.9100 - val_loss: 0.3776 - val_accuracy: 0.8538\n",
      "Epoch 8/100\n",
      "3/3 [==============================] - 0s 24ms/step - loss: 0.2087 - accuracy: 0.9100 - val_loss: 0.7022 - val_accuracy: 0.7692\n",
      "Epoch 9/100\n",
      "3/3 [==============================] - 0s 21ms/step - loss: 0.2247 - accuracy: 0.9167 - val_loss: 0.3542 - val_accuracy: 0.8654\n",
      "Epoch 10/100\n",
      "3/3 [==============================] - 0s 21ms/step - loss: 0.2055 - accuracy: 0.9167 - val_loss: 0.4467 - val_accuracy: 0.8308\n",
      "Epoch 11/100\n",
      "3/3 [==============================] - 0s 22ms/step - loss: 0.1905 - accuracy: 0.9200 - val_loss: 0.5303 - val_accuracy: 0.8038\n",
      "Epoch 12/100\n",
      "3/3 [==============================] - 0s 22ms/step - loss: 0.1906 - accuracy: 0.9233 - val_loss: 0.4491 - val_accuracy: 0.8269\n",
      "Epoch 13/100\n",
      "3/3 [==============================] - 0s 22ms/step - loss: 0.1881 - accuracy: 0.9300 - val_loss: 0.2815 - val_accuracy: 0.8885\n",
      "Epoch 14/100\n",
      "3/3 [==============================] - 0s 22ms/step - loss: 0.2164 - accuracy: 0.9000 - val_loss: 0.4134 - val_accuracy: 0.8462\n",
      "Epoch 15/100\n",
      "3/3 [==============================] - 0s 23ms/step - loss: 0.1760 - accuracy: 0.9333 - val_loss: 0.6216 - val_accuracy: 0.7538\n",
      "Epoch 16/100\n",
      "3/3 [==============================] - 0s 21ms/step - loss: 0.1940 - accuracy: 0.9233 - val_loss: 0.2177 - val_accuracy: 0.9077\n",
      "Epoch 17/100\n",
      "3/3 [==============================] - 0s 28ms/step - loss: 0.2061 - accuracy: 0.8967 - val_loss: 0.3514 - val_accuracy: 0.8577\n",
      "Epoch 18/100\n",
      "3/3 [==============================] - 0s 30ms/step - loss: 0.1768 - accuracy: 0.9267 - val_loss: 0.4423 - val_accuracy: 0.8154\n",
      "Epoch 19/100\n",
      "3/3 [==============================] - 0s 25ms/step - loss: 0.1736 - accuracy: 0.9200 - val_loss: 0.2167 - val_accuracy: 0.9077\n",
      "Epoch 20/100\n",
      "3/3 [==============================] - 0s 19ms/step - loss: 0.1834 - accuracy: 0.9267 - val_loss: 0.3790 - val_accuracy: 0.8462\n",
      "Epoch 21/100\n",
      "3/3 [==============================] - 0s 19ms/step - loss: 0.1631 - accuracy: 0.9300 - val_loss: 0.2477 - val_accuracy: 0.8962\n",
      "Epoch 22/100\n",
      "3/3 [==============================] - 0s 23ms/step - loss: 0.1690 - accuracy: 0.9267 - val_loss: 0.4609 - val_accuracy: 0.8077\n",
      "Epoch 23/100\n",
      "3/3 [==============================] - 0s 22ms/step - loss: 0.2085 - accuracy: 0.9000 - val_loss: 0.3294 - val_accuracy: 0.8731\n",
      "Epoch 24/100\n",
      "3/3 [==============================] - 0s 18ms/step - loss: 0.1757 - accuracy: 0.9267 - val_loss: 0.1875 - val_accuracy: 0.9231\n",
      "Epoch 25/100\n",
      "3/3 [==============================] - 0s 18ms/step - loss: 0.1806 - accuracy: 0.9100 - val_loss: 0.4826 - val_accuracy: 0.8038\n",
      "Epoch 26/100\n",
      "3/3 [==============================] - 0s 19ms/step - loss: 0.1734 - accuracy: 0.9233 - val_loss: 0.2575 - val_accuracy: 0.8885\n",
      "Epoch 27/100\n",
      "3/3 [==============================] - 0s 19ms/step - loss: 0.1660 - accuracy: 0.9300 - val_loss: 0.2813 - val_accuracy: 0.8885\n",
      "Epoch 28/100\n",
      "3/3 [==============================] - 0s 18ms/step - loss: 0.1558 - accuracy: 0.9300 - val_loss: 0.4805 - val_accuracy: 0.8038\n",
      "Epoch 29/100\n",
      "3/3 [==============================] - 0s 20ms/step - loss: 0.1690 - accuracy: 0.9300 - val_loss: 0.3461 - val_accuracy: 0.8654\n",
      "Epoch 30/100\n",
      "3/3 [==============================] - 0s 18ms/step - loss: 0.1665 - accuracy: 0.9267 - val_loss: 0.2751 - val_accuracy: 0.8885\n",
      "Epoch 31/100\n",
      "3/3 [==============================] - 0s 18ms/step - loss: 0.1537 - accuracy: 0.9333 - val_loss: 0.4878 - val_accuracy: 0.8038\n",
      "Epoch 32/100\n",
      "3/3 [==============================] - 0s 18ms/step - loss: 0.1677 - accuracy: 0.9267 - val_loss: 0.3848 - val_accuracy: 0.8423\n",
      "Epoch 33/100\n",
      "3/3 [==============================] - 0s 19ms/step - loss: 0.1571 - accuracy: 0.9367 - val_loss: 0.2972 - val_accuracy: 0.8846\n",
      "Epoch 34/100\n",
      "3/3 [==============================] - 0s 18ms/step - loss: 0.1556 - accuracy: 0.9300 - val_loss: 0.3525 - val_accuracy: 0.8615\n",
      "Epoch 35/100\n",
      "3/3 [==============================] - 0s 18ms/step - loss: 0.1563 - accuracy: 0.9400 - val_loss: 0.3700 - val_accuracy: 0.8577\n",
      "Epoch 36/100\n",
      "3/3 [==============================] - 0s 18ms/step - loss: 0.1502 - accuracy: 0.9367 - val_loss: 0.2566 - val_accuracy: 0.8885\n",
      "Epoch 37/100\n",
      "3/3 [==============================] - 0s 18ms/step - loss: 0.1540 - accuracy: 0.9367 - val_loss: 0.3872 - val_accuracy: 0.8462\n",
      "Epoch 38/100\n",
      "3/3 [==============================] - 0s 19ms/step - loss: 0.1517 - accuracy: 0.9433 - val_loss: 0.3467 - val_accuracy: 0.8654\n",
      "Epoch 39/100\n",
      "3/3 [==============================] - 0s 18ms/step - loss: 0.1498 - accuracy: 0.9367 - val_loss: 0.2924 - val_accuracy: 0.8846\n",
      "Epoch 40/100\n",
      "3/3 [==============================] - 0s 17ms/step - loss: 0.1499 - accuracy: 0.9367 - val_loss: 0.2901 - val_accuracy: 0.8808\n",
      "Epoch 41/100\n",
      "3/3 [==============================] - 0s 17ms/step - loss: 0.1484 - accuracy: 0.9300 - val_loss: 0.3275 - val_accuracy: 0.8692\n",
      "Epoch 42/100\n",
      "3/3 [==============================] - 0s 17ms/step - loss: 0.1473 - accuracy: 0.9400 - val_loss: 0.2871 - val_accuracy: 0.8769\n",
      "Epoch 43/100\n",
      "3/3 [==============================] - 0s 17ms/step - loss: 0.1523 - accuracy: 0.9333 - val_loss: 0.4558 - val_accuracy: 0.8231\n",
      "Epoch 44/100\n",
      "3/3 [==============================] - 0s 18ms/step - loss: 0.1818 - accuracy: 0.9167 - val_loss: 0.2836 - val_accuracy: 0.8769\n",
      "Epoch 45/100\n",
      "3/3 [==============================] - 0s 21ms/step - loss: 0.1570 - accuracy: 0.9267 - val_loss: 0.2780 - val_accuracy: 0.8769\n",
      "Epoch 46/100\n",
      "3/3 [==============================] - 0s 18ms/step - loss: 0.1373 - accuracy: 0.9300 - val_loss: 0.6127 - val_accuracy: 0.7192\n",
      "Epoch 47/100\n",
      "3/3 [==============================] - 0s 17ms/step - loss: 0.1705 - accuracy: 0.9300 - val_loss: 0.2140 - val_accuracy: 0.9077\n",
      "Epoch 48/100\n",
      "3/3 [==============================] - 0s 17ms/step - loss: 0.1583 - accuracy: 0.9267 - val_loss: 0.2782 - val_accuracy: 0.8808\n",
      "Epoch 49/100\n",
      "3/3 [==============================] - 0s 19ms/step - loss: 0.1450 - accuracy: 0.9400 - val_loss: 0.3972 - val_accuracy: 0.8462\n",
      "Epoch 50/100\n",
      "3/3 [==============================] - 0s 18ms/step - loss: 0.1422 - accuracy: 0.9433 - val_loss: 0.2364 - val_accuracy: 0.8923\n",
      "Epoch 51/100\n",
      "3/3 [==============================] - 0s 17ms/step - loss: 0.1491 - accuracy: 0.9333 - val_loss: 0.3713 - val_accuracy: 0.8615\n",
      "Epoch 52/100\n",
      "3/3 [==============================] - 0s 17ms/step - loss: 0.1421 - accuracy: 0.9433 - val_loss: 0.4272 - val_accuracy: 0.8192\n",
      "Epoch 53/100\n",
      "3/3 [==============================] - 0s 18ms/step - loss: 0.1494 - accuracy: 0.9333 - val_loss: 0.3097 - val_accuracy: 0.8731\n",
      "Epoch 54/100\n",
      "3/3 [==============================] - 0s 19ms/step - loss: 0.1471 - accuracy: 0.9367 - val_loss: 0.5121 - val_accuracy: 0.8077\n",
      "Epoch 55/100\n",
      "3/3 [==============================] - 0s 18ms/step - loss: 0.1548 - accuracy: 0.9333 - val_loss: 0.3684 - val_accuracy: 0.8538\n",
      "Epoch 56/100\n",
      "3/3 [==============================] - 0s 18ms/step - loss: 0.1405 - accuracy: 0.9400 - val_loss: 0.2942 - val_accuracy: 0.8769\n",
      "Epoch 57/100\n",
      "3/3 [==============================] - 0s 18ms/step - loss: 0.1396 - accuracy: 0.9367 - val_loss: 0.4356 - val_accuracy: 0.8308\n",
      "Epoch 58/100\n",
      "3/3 [==============================] - 0s 19ms/step - loss: 0.1396 - accuracy: 0.9433 - val_loss: 0.2108 - val_accuracy: 0.9038\n",
      "Epoch 59/100\n",
      "3/3 [==============================] - 0s 17ms/step - loss: 0.1501 - accuracy: 0.9333 - val_loss: 0.5308 - val_accuracy: 0.7808\n",
      "Epoch 60/100\n",
      "3/3 [==============================] - 0s 17ms/step - loss: 0.2040 - accuracy: 0.9167 - val_loss: 0.3050 - val_accuracy: 0.8769\n",
      "Epoch 61/100\n",
      "3/3 [==============================] - 0s 18ms/step - loss: 0.1527 - accuracy: 0.9267 - val_loss: 0.1555 - val_accuracy: 0.9346\n",
      "Epoch 62/100\n",
      "3/3 [==============================] - 0s 17ms/step - loss: 0.1697 - accuracy: 0.9267 - val_loss: 0.6209 - val_accuracy: 0.7423\n",
      "Epoch 63/100\n",
      "3/3 [==============================] - 0s 17ms/step - loss: 0.1755 - accuracy: 0.9333 - val_loss: 0.3138 - val_accuracy: 0.8731\n",
      "Epoch 64/100\n",
      "3/3 [==============================] - 0s 18ms/step - loss: 0.1477 - accuracy: 0.9300 - val_loss: 0.1707 - val_accuracy: 0.9231\n",
      "Epoch 65/100\n",
      "3/3 [==============================] - 0s 18ms/step - loss: 0.1642 - accuracy: 0.9300 - val_loss: 0.4757 - val_accuracy: 0.8115\n",
      "Epoch 66/100\n",
      "3/3 [==============================] - 0s 17ms/step - loss: 0.1526 - accuracy: 0.9300 - val_loss: 0.4186 - val_accuracy: 0.8231\n",
      "Epoch 67/100\n",
      "3/3 [==============================] - 0s 18ms/step - loss: 0.1326 - accuracy: 0.9467 - val_loss: 0.1978 - val_accuracy: 0.9115\n",
      "Epoch 68/100\n",
      "3/3 [==============================] - 0s 19ms/step - loss: 0.1642 - accuracy: 0.9333 - val_loss: 0.3359 - val_accuracy: 0.8731\n",
      "Epoch 69/100\n",
      "3/3 [==============================] - 0s 17ms/step - loss: 0.1471 - accuracy: 0.9400 - val_loss: 0.4069 - val_accuracy: 0.8385\n",
      "Epoch 70/100\n",
      "3/3 [==============================] - 0s 17ms/step - loss: 0.1413 - accuracy: 0.9400 - val_loss: 0.2309 - val_accuracy: 0.8962\n",
      "Epoch 71/100\n",
      "3/3 [==============================] - 0s 18ms/step - loss: 0.1373 - accuracy: 0.9367 - val_loss: 0.4812 - val_accuracy: 0.7962\n",
      "Epoch 72/100\n",
      "3/3 [==============================] - 0s 18ms/step - loss: 0.1449 - accuracy: 0.9300 - val_loss: 0.3384 - val_accuracy: 0.8731\n",
      "Epoch 73/100\n",
      "3/3 [==============================] - 0s 18ms/step - loss: 0.1337 - accuracy: 0.9433 - val_loss: 0.2796 - val_accuracy: 0.8731\n",
      "Epoch 74/100\n",
      "3/3 [==============================] - 0s 18ms/step - loss: 0.1338 - accuracy: 0.9267 - val_loss: 0.4223 - val_accuracy: 0.8192\n",
      "Epoch 75/100\n",
      "3/3 [==============================] - 0s 18ms/step - loss: 0.1332 - accuracy: 0.9400 - val_loss: 0.3345 - val_accuracy: 0.8654\n",
      "Epoch 76/100\n",
      "3/3 [==============================] - 0s 18ms/step - loss: 0.1298 - accuracy: 0.9433 - val_loss: 0.3885 - val_accuracy: 0.8308\n",
      "Epoch 77/100\n",
      "3/3 [==============================] - 0s 18ms/step - loss: 0.1311 - accuracy: 0.9400 - val_loss: 0.3554 - val_accuracy: 0.8615\n",
      "Epoch 78/100\n",
      "3/3 [==============================] - 0s 18ms/step - loss: 0.1367 - accuracy: 0.9467 - val_loss: 0.4033 - val_accuracy: 0.8231\n",
      "Epoch 79/100\n",
      "3/3 [==============================] - 0s 17ms/step - loss: 0.1365 - accuracy: 0.9333 - val_loss: 0.4025 - val_accuracy: 0.8231\n",
      "Epoch 80/100\n",
      "3/3 [==============================] - 0s 17ms/step - loss: 0.1307 - accuracy: 0.9467 - val_loss: 0.3001 - val_accuracy: 0.8692\n",
      "Epoch 81/100\n",
      "3/3 [==============================] - 0s 18ms/step - loss: 0.1385 - accuracy: 0.9333 - val_loss: 0.4293 - val_accuracy: 0.8192\n",
      "Epoch 82/100\n",
      "3/3 [==============================] - 0s 17ms/step - loss: 0.1372 - accuracy: 0.9433 - val_loss: 0.2205 - val_accuracy: 0.8962\n",
      "Epoch 83/100\n",
      "3/3 [==============================] - 0s 17ms/step - loss: 0.1303 - accuracy: 0.9367 - val_loss: 0.5363 - val_accuracy: 0.7577\n",
      "Epoch 84/100\n",
      "3/3 [==============================] - 0s 17ms/step - loss: 0.1381 - accuracy: 0.9367 - val_loss: 0.2297 - val_accuracy: 0.8846\n",
      "Epoch 85/100\n",
      "3/3 [==============================] - 0s 18ms/step - loss: 0.1431 - accuracy: 0.9367 - val_loss: 0.2438 - val_accuracy: 0.8808\n",
      "Epoch 86/100\n",
      "3/3 [==============================] - 0s 19ms/step - loss: 0.1318 - accuracy: 0.9333 - val_loss: 0.4691 - val_accuracy: 0.8038\n",
      "Epoch 87/100\n",
      "3/3 [==============================] - 0s 18ms/step - loss: 0.1270 - accuracy: 0.9400 - val_loss: 0.2626 - val_accuracy: 0.8808\n",
      "Epoch 88/100\n",
      "3/3 [==============================] - 0s 18ms/step - loss: 0.1300 - accuracy: 0.9367 - val_loss: 0.3876 - val_accuracy: 0.8308\n",
      "Epoch 89/100\n",
      "3/3 [==============================] - 0s 17ms/step - loss: 0.1224 - accuracy: 0.9433 - val_loss: 0.3516 - val_accuracy: 0.8577\n",
      "Epoch 90/100\n",
      "3/3 [==============================] - 0s 18ms/step - loss: 0.1232 - accuracy: 0.9433 - val_loss: 0.4516 - val_accuracy: 0.8077\n",
      "Epoch 91/100\n",
      "3/3 [==============================] - 0s 18ms/step - loss: 0.1312 - accuracy: 0.9433 - val_loss: 0.4197 - val_accuracy: 0.8077\n",
      "Epoch 92/100\n",
      "3/3 [==============================] - 0s 17ms/step - loss: 0.1217 - accuracy: 0.9500 - val_loss: 0.2311 - val_accuracy: 0.8885\n",
      "Epoch 93/100\n",
      "3/3 [==============================] - 0s 17ms/step - loss: 0.1346 - accuracy: 0.9367 - val_loss: 0.4169 - val_accuracy: 0.8192\n",
      "Epoch 94/100\n",
      "3/3 [==============================] - 0s 20ms/step - loss: 0.1312 - accuracy: 0.9400 - val_loss: 0.5387 - val_accuracy: 0.7692\n",
      "Epoch 95/100\n",
      "3/3 [==============================] - 0s 21ms/step - loss: 0.1369 - accuracy: 0.9333 - val_loss: 0.3584 - val_accuracy: 0.8423\n",
      "Epoch 96/100\n",
      "3/3 [==============================] - 0s 18ms/step - loss: 0.1243 - accuracy: 0.9433 - val_loss: 0.3928 - val_accuracy: 0.8308\n",
      "Epoch 97/100\n",
      "3/3 [==============================] - 0s 18ms/step - loss: 0.1156 - accuracy: 0.9533 - val_loss: 0.2164 - val_accuracy: 0.8962\n",
      "Epoch 98/100\n",
      "3/3 [==============================] - 0s 20ms/step - loss: 0.1348 - accuracy: 0.9333 - val_loss: 0.5532 - val_accuracy: 0.7500\n",
      "Epoch 99/100\n",
      "3/3 [==============================] - 0s 19ms/step - loss: 0.1566 - accuracy: 0.9367 - val_loss: 0.3315 - val_accuracy: 0.8577\n",
      "Epoch 100/100\n",
      "3/3 [==============================] - 0s 18ms/step - loss: 0.1404 - accuracy: 0.9333 - val_loss: 0.3513 - val_accuracy: 0.8500\n"
     ]
    }
   ],
   "source": [
    "model1 = build_model()\n",
    "\n",
    "model1.compile(\n",
    "    loss='binary_crossentropy', optimizer=\"adam\", metrics=['accuracy']\n",
    ")\n",
    "\n",
    "history = model1.fit(\n",
    "    train_data,\n",
    "    train_labels,\n",
    "    batch_size=128,\n",
    "    epochs=100,\n",
    "    validation_data=(test_data, test_labels)\n",
    ")"
   ]
  },
  {
   "cell_type": "code",
   "execution_count": 38,
   "metadata": {},
   "outputs": [
    {
     "name": "stdout",
     "output_type": "stream",
     "text": [
      "10/10 [==============================] - 0s 5ms/step - loss: 0.1172 - accuracy: 0.9533\n"
     ]
    },
    {
     "data": {
      "text/plain": [
       "[0.11718402057886124, 0.9533333778381348]"
      ]
     },
     "execution_count": 38,
     "metadata": {},
     "output_type": "execute_result"
    }
   ],
   "source": [
    "model1.evaluate(train_data, train_labels)"
   ]
  },
  {
   "cell_type": "code",
   "execution_count": 34,
   "metadata": {},
   "outputs": [
    {
     "name": "stdout",
     "output_type": "stream",
     "text": [
      "9/9 [==============================] - 0s 4ms/step - loss: 0.3513 - accuracy: 0.8500\n"
     ]
    },
    {
     "data": {
      "text/plain": [
       "[0.3513069152832031, 0.8500000238418579]"
      ]
     },
     "execution_count": 34,
     "metadata": {},
     "output_type": "execute_result"
    }
   ],
   "source": [
    "model1.evaluate(test_data, test_labels)"
   ]
  },
  {
   "cell_type": "code",
   "execution_count": 35,
   "metadata": {},
   "outputs": [
    {
     "name": "stdout",
     "output_type": "stream",
     "text": [
      "9/9 [==============================] - 0s 5ms/step - loss: 0.3513 - accuracy: 0.8500\n"
     ]
    },
    {
     "data": {
      "text/plain": [
       "[0.3513069152832031, 0.8500000238418579]"
      ]
     },
     "execution_count": 35,
     "metadata": {},
     "output_type": "execute_result"
    }
   ],
   "source": [
    "model1.evaluate(test_data, test_labels)"
   ]
  },
  {
   "cell_type": "code",
   "execution_count": 39,
   "metadata": {},
   "outputs": [
    {
     "data": {
      "image/png": "[encoded data removed]",
      "text/plain": [
       "<Figure size 432x288 with 1 Axes>"
      ]
     },
     "metadata": {
      "needs_background": "light"
     },
     "output_type": "display_data"
    }
   ],
   "source": [
    "plot_train_vs_validation_accuracy(history,0,-1)"
   ]
  },
  {
   "cell_type": "code",
   "execution_count": 40,
   "metadata": {},
   "outputs": [
    {
     "data": {
      "image/png": "[encoded data removed]",
      "text/plain": [
       "<Figure size 432x288 with 1 Axes>"
      ]
     },
     "metadata": {
      "needs_background": "light"
     },
     "output_type": "display_data"
    }
   ],
   "source": [
    "plot_train_vs_validation_loss(history, 0, -1)"
   ]
  },
  {
   "cell_type": "code",
   "execution_count": null,
   "metadata": {},
   "outputs": [],
   "source": []
  }
 ],
 "metadata": {
  "interpreter": {
   "hash": "ae3e69c65d3e639eaa27d29e1de789155c824c7adfc56c19d7e8f7a01abbe7a0"
  },
  "kernelspec": {
   "display_name": "Python 3.8.8 ('base')",
   "language": "python",
   "name": "python3"
  },
  "language_info": {
   "codemirror_mode": {
    "name": "ipython",
    "version": 3
   },
   "file_extension": ".py",
   "mimetype": "text/x-python",
   "name": "python",
   "nbconvert_exporter": "python",
   "pygments_lexer": "ipython3",
   "version": "3.9.10"
  },
  "orig_nbformat": 4
 },
 "nbformat": 4,
 "nbformat_minor": 2
}
