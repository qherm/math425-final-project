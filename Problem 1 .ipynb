{
 "cells": [
  {
   "cell_type": "code",
   "execution_count": 177,
   "id": "10480659",
   "metadata": {},
   "outputs": [],
   "source": [
    "import numpy as np \n",
    "from matplotlib import pyplot as plt\n",
    "import sympy as sy\n",
    "import pandas as pd\n",
    "np.set_printoptions(suppress=True)\n",
    "from sympy import init_printing\n",
    "init_printing() "
   ]
  },
  {
   "cell_type": "code",
   "execution_count": 178,
   "id": "a78654d2",
   "metadata": {},
   "outputs": [],
   "source": [
    "def translate_matrix(a,b):\n",
    "    return np.vstack(([1,0,a],[0,1,b],[0,0,1]))"
   ]
  },
  {
   "cell_type": "code",
   "execution_count": 179,
   "id": "cdfe4d5c",
   "metadata": {},
   "outputs": [
    {
     "ename": "IndentationError",
     "evalue": "expected an indented block (1098067062.py, line 5)",
     "output_type": "error",
     "traceback": [
      "\u001b[1;36m  Input \u001b[1;32mIn [179]\u001b[1;36m\u001b[0m\n\u001b[1;33m    if m[i][j]>.00001:\u001b[0m\n\u001b[1;37m    ^\u001b[0m\n\u001b[1;31mIndentationError\u001b[0m\u001b[1;31m:\u001b[0m expected an indented block\n"
     ]
    }
   ],
   "source": [
    "def rotate_matrix(theta):\n",
    "    m=np.vstack(([np.cos(theta),-np.sin(theta),0],[np.sin(theta),np.cos(theta),0],[0,0,1]))\n",
    "    for i in range(np.shape(m)[0]):\n",
    "        for j in range(np.shape(m)[1]):\n",
    "        if m[i][j]>.00001:\n",
    "            m[i][j]=0\n",
    "    return "
   ]
  },
  {
   "cell_type": "code",
   "execution_count": 189,
   "id": "f5c24b02",
   "metadata": {},
   "outputs": [
    {
     "data": {
      "text/plain": [
       "[<matplotlib.lines.Line2D at 0x1d0c914e400>]"
      ]
     },
     "execution_count": 189,
     "metadata": {},
     "output_type": "execute_result"
    },
    {
     "data": {
      "image/png": "[encoded data removed]",
      "text/plain": [
       "<Figure size 432x288 with 1 Axes>"
      ]
     },
     "metadata": {
      "needs_background": "light"
     },
     "output_type": "display_data"
    }
   ],
   "source": [
    "\"\"\"Original coordinates \n",
    "(0.3036, 0.1960), (0.6168, 0.2977), (0.7128,\n",
    "0.4169), (0.7120, 0.1960), (0.9377, 0.2620), (0.7120, 0.5680), (0.3989, 0.6697), (0.3028,\n",
    "0.7889), (0.3036, 0.5680), and (0.5293, 0.5020).\n",
    "\"\"\"\n",
    "\n",
    "# added last vector to connect first and last point since we will have to transform the added line segment anyways\n",
    "x=[0.3036,0.6168,0.7128,0.7120,0.9377,0.7120,0.3989,0.3028,0.3036,0.5293,0.3036]\n",
    "y=[0.1960,0.2977,0.4169,0.1960,0.2620,0.5680,0.6697,0.7889,0.5680,0.5020,0.1960]\n",
    "#adding a row of 1 to make the matrix compatiable with homogenous transformations\n",
    "z=11*[1]\n",
    "#combining the rows into a single matrix: A\n",
    "\n",
    "A=np.vstack((x,y,z))\n",
    "#plotting the bird \n",
    "plt.plot(A[0],A[1], 'k-,')\n"
   ]
  },
  {
   "cell_type": "markdown",
   "id": "c4a24462",
   "metadata": {},
   "source": [
    "To find the matrix of transformation that rotates the bird tile around the point (.7120,.4320) we must first calculate the translation matrix  That moves the tile to the origin from the desired rotation point. : \n",
    "\n",
    " $$\\begin{bmatrix}1&0&-.7120\\\\0&1&-.432\\\\0&0&1\\end{bmatrix}$$\n",
    "    \n",
    " Next we must find the rotation matrix about the z axis for theta = $\\pi$: \n",
    " \n",
    " $$\\begin{bmatrix} \\cos(\\pi)&-\\sin(\\pi)&0\\\\\\sin(\\pi)&\\cos(\\pi)&0\\\\0&0&1\\end{bmatrix}\\sim \\begin{bmatrix}-1&0&0\\\\0&-1&0\\\\0&0&1\\end{bmatrix}$$\n",
    " \n",
    " Finally we want to translate the matrix back to the desired point \n",
    "  $$\\begin{bmatrix}1&0&.7120\\\\0&1&.432\\\\0&0&1\\end{bmatrix}$$\n",
    "\n",
    "$$\\begin{bmatrix}1&0&.7120\\\\0&1&.432\\\\0&0&1\\end{bmatrix}\\begin{bmatrix}-1&0&0\\\\0&-1&0\\\\0&0&1\\end{bmatrix}\\begin{bmatrix}1&0&-.7120\\\\0&1&.-432\\\\0&0&1\\end{bmatrix}=\\begin{bmatrix}-1&0&1.424\\\\0&-1&.864\\\\0&0&1\\end{bmatrix}$$\n",
    "\n",
    "$$T(a,b)R(\\pi)T(-a,-b)x$$"
   ]
  },
  {
   "cell_type": "code",
   "execution_count": 181,
   "id": "6f9a60ef",
   "metadata": {},
   "outputs": [],
   "source": [
    "def printMatrix(a):\n",
    "    cm = sns.light_palette(\"blue\", as_cmap=True)\n",
    "    x=pd.DataFrame(a)\n",
    "    x=x.style.background_gradient(cmap=cm)\n",
    "    display(x)"
   ]
  },
  {
   "cell_type": "code",
   "execution_count": 188,
   "id": "bb3500a8",
   "metadata": {},
   "outputs": [
    {
     "data": {
      "text/html": [
       "<style type=\"text/css\">\n",
       "#T_f7614_row0_col0, #T_f7614_row1_col1, #T_f7614_row1_col2 {\n",
       "  background-color: #f0f0f3;\n",
       "  color: #000000;\n",
       "}\n",
       "#T_f7614_row0_col1, #T_f7614_row1_col0, #T_f7614_row2_col0, #T_f7614_row2_col1, #T_f7614_row2_col2 {\n",
       "  background-color: #0000ff;\n",
       "  color: #f1f1f1;\n",
       "}\n",
       "#T_f7614_row0_col2 {\n",
       "  background-color: #7a7af9;\n",
       "  color: #f1f1f1;\n",
       "}\n",
       "</style>\n",
       "<table id=\"T_f7614\">\n",
       "  <thead>\n",
       "    <tr>\n",
       "      <th class=\"blank level0\" >&nbsp;</th>\n",
       "      <th id=\"T_f7614_level0_col0\" class=\"col_heading level0 col0\" >0</th>\n",
       "      <th id=\"T_f7614_level0_col1\" class=\"col_heading level0 col1\" >1</th>\n",
       "      <th id=\"T_f7614_level0_col2\" class=\"col_heading level0 col2\" >2</th>\n",
       "    </tr>\n",
       "  </thead>\n",
       "  <tbody>\n",
       "    <tr>\n",
       "      <th id=\"T_f7614_level0_row0\" class=\"row_heading level0 row0\" >0</th>\n",
       "      <td id=\"T_f7614_row0_col0\" class=\"data row0 col0\" >-1.000000</td>\n",
       "      <td id=\"T_f7614_row0_col1\" class=\"data row0 col1\" >-0.000000</td>\n",
       "      <td id=\"T_f7614_row0_col2\" class=\"data row0 col2\" >0.712000</td>\n",
       "    </tr>\n",
       "    <tr>\n",
       "      <th id=\"T_f7614_level0_row1\" class=\"row_heading level0 row1\" >1</th>\n",
       "      <td id=\"T_f7614_row1_col0\" class=\"data row1 col0\" >0.000000</td>\n",
       "      <td id=\"T_f7614_row1_col1\" class=\"data row1 col1\" >-1.000000</td>\n",
       "      <td id=\"T_f7614_row1_col2\" class=\"data row1 col2\" >0.432000</td>\n",
       "    </tr>\n",
       "    <tr>\n",
       "      <th id=\"T_f7614_level0_row2\" class=\"row_heading level0 row2\" >2</th>\n",
       "      <td id=\"T_f7614_row2_col0\" class=\"data row2 col0\" >0.000000</td>\n",
       "      <td id=\"T_f7614_row2_col1\" class=\"data row2 col1\" >0.000000</td>\n",
       "      <td id=\"T_f7614_row2_col2\" class=\"data row2 col2\" >1.000000</td>\n",
       "    </tr>\n",
       "  </tbody>\n",
       "</table>\n"
      ],
      "text/plain": [
       "<pandas.io.formats.style.Styler at 0x1d0c8fda2b0>"
      ]
     },
     "metadata": {},
     "output_type": "display_data"
    },
    {
     "data": {
      "text/html": [
       "<style type=\"text/css\">\n",
       "#T_0fd53_row0_col0, #T_0fd53_row1_col1, #T_0fd53_row1_col2 {\n",
       "  background-color: #f0f0f3;\n",
       "  color: #000000;\n",
       "}\n",
       "#T_0fd53_row0_col1, #T_0fd53_row0_col2, #T_0fd53_row1_col0, #T_0fd53_row2_col0, #T_0fd53_row2_col1 {\n",
       "  background-color: #0000ff;\n",
       "  color: #f1f1f1;\n",
       "}\n",
       "#T_0fd53_row2_col2 {\n",
       "  background-color: #b6b6f6;\n",
       "  color: #000000;\n",
       "}\n",
       "</style>\n",
       "<table id=\"T_0fd53\">\n",
       "  <thead>\n",
       "    <tr>\n",
       "      <th class=\"blank level0\" >&nbsp;</th>\n",
       "      <th id=\"T_0fd53_level0_col0\" class=\"col_heading level0 col0\" >0</th>\n",
       "      <th id=\"T_0fd53_level0_col1\" class=\"col_heading level0 col1\" >1</th>\n",
       "      <th id=\"T_0fd53_level0_col2\" class=\"col_heading level0 col2\" >2</th>\n",
       "    </tr>\n",
       "  </thead>\n",
       "  <tbody>\n",
       "    <tr>\n",
       "      <th id=\"T_0fd53_level0_row0\" class=\"row_heading level0 row0\" >0</th>\n",
       "      <td id=\"T_0fd53_row0_col0\" class=\"data row0 col0\" >-1.000000</td>\n",
       "      <td id=\"T_0fd53_row0_col1\" class=\"data row0 col1\" >-0.000000</td>\n",
       "      <td id=\"T_0fd53_row0_col2\" class=\"data row0 col2\" >1.424000</td>\n",
       "    </tr>\n",
       "    <tr>\n",
       "      <th id=\"T_0fd53_level0_row1\" class=\"row_heading level0 row1\" >1</th>\n",
       "      <td id=\"T_0fd53_row1_col0\" class=\"data row1 col0\" >0.000000</td>\n",
       "      <td id=\"T_0fd53_row1_col1\" class=\"data row1 col1\" >-1.000000</td>\n",
       "      <td id=\"T_0fd53_row1_col2\" class=\"data row1 col2\" >0.864000</td>\n",
       "    </tr>\n",
       "    <tr>\n",
       "      <th id=\"T_0fd53_level0_row2\" class=\"row_heading level0 row2\" >2</th>\n",
       "      <td id=\"T_0fd53_row2_col0\" class=\"data row2 col0\" >0.000000</td>\n",
       "      <td id=\"T_0fd53_row2_col1\" class=\"data row2 col1\" >0.000000</td>\n",
       "      <td id=\"T_0fd53_row2_col2\" class=\"data row2 col2\" >1.000000</td>\n",
       "    </tr>\n",
       "  </tbody>\n",
       "</table>\n"
      ],
      "text/plain": [
       "<pandas.io.formats.style.Styler at 0x1d0c8d880d0>"
      ]
     },
     "metadata": {},
     "output_type": "display_data"
    },
    {
     "data": {
      "text/plain": [
       "[<matplotlib.lines.Line2D at 0x1d0c8ff8910>]"
      ]
     },
     "execution_count": 188,
     "metadata": {},
     "output_type": "execute_result"
    },
    {
     "data": {
      "image/png": "[encoded data removed]",
      "text/plain": [
       "<Figure size 432x288 with 1 Axes>"
      ]
     },
     "metadata": {
      "needs_background": "light"
     },
     "output_type": "display_data"
    }
   ],
   "source": [
    "#plot original bird tile\n",
    "plt.plot(A[0],A[1], 'k-,')\n",
    "#declare constants \n",
    "theta=np.pi\n",
    "a=.7120\n",
    "b=.4320\n",
    "#generate matrices for transformation\n",
    "t1=translate_matrix(a,b)\n",
    "r=rotate_matrix(theta)\n",
    "t2=translate_matrix(-a,-b)\n",
    "\n",
    "\n",
    "\n",
    "#combine matricies \n",
    "T=np.matmul(r,t2)\n",
    "printMatrix(T)\n",
    "\n",
    "T=np.matmul(t1,T)\n",
    "printMatrix(T)\n",
    "\n",
    "A1=np.matmul(T,A)\n",
    "\n",
    "#print single rotation point\n",
    "plt.plot(a,b,'ro') \n",
    "#print modified bird (Tile1)\n",
    "plt.plot(A1[0],A1[1], 'k-,')"
   ]
  },
  {
   "cell_type": "code",
   "execution_count": null,
   "id": "c959780e",
   "metadata": {},
   "outputs": [],
   "source": []
  },
  {
   "cell_type": "code",
   "execution_count": null,
   "id": "912a6d51",
   "metadata": {},
   "outputs": [],
   "source": []
  }
 ],
 "metadata": {
  "kernelspec": {
   "display_name": "Python 3 (ipykernel)",
   "language": "python",
   "name": "python3"
  },
  "language_info": {
   "codemirror_mode": {
    "name": "ipython",
    "version": 3
   },
   "file_extension": ".py",
   "mimetype": "text/x-python",
   "name": "python",
   "nbconvert_exporter": "python",
   "pygments_lexer": "ipython3",
   "version": "3.9.5"
  }
 },
 "nbformat": 4,
 "nbformat_minor": 5
}
