{
 "cells": [
  {
   "cell_type": "code",
   "execution_count": 149,
   "id": "74803874",
   "metadata": {},
   "outputs": [],
   "source": [
    "import numpy as np\n",
    "import matplotlib.pyplot as plt\n"
   ]
  },
  {
   "cell_type": "code",
   "execution_count": 126,
   "id": "816fc4f8",
   "metadata": {},
   "outputs": [],
   "source": [
    "def txt_to_numpy(filename):\n",
    "    a_file = open(filename)\n",
    "    file_contents = a_file.read()\n",
    "    contents_split = file_contents.splitlines()\n",
    "    array=[]\n",
    "    for i in range(len(contents_split)):\n",
    "        array.append( np.array([x for x in contents_split[i].split(',')]))\n",
    "    return np.array(array).astype(float)"
   ]
  },
  {
   "cell_type": "code",
   "execution_count": 127,
   "id": "c57fa804",
   "metadata": {},
   "outputs": [],
   "source": [
    "#read in training dataset and labels\n",
    "training_set=txt_to_numpy(\"handwriting_training_set.txt\")\n",
    "training_labels=txt_to_numpy(\"handwriting_training_set_labels.txt\")\n",
    "#read in test dataset and labels\n",
    "test_set=txt_to_numpy(\"handwriting_test_set.txt\")\n",
    "test_labels=txt_to_numpy(\"handwriting_test_set_labels.txt\")"
   ]
  },
  {
   "cell_type": "code",
   "execution_count": 171,
   "id": "eb28bb58",
   "metadata": {},
   "outputs": [
    {
     "data": {
      "image/png": "[encoded data removed]",
      "text/plain": [
       "<Figure size 432x288 with 1 Axes>"
      ]
     },
     "metadata": {
      "needs_background": "light"
     },
     "output_type": "display_data"
    }
   ],
   "source": [
    "\n",
    "number=training_set[399]\n",
    "number=np.reshape(number,(20,20)) \n",
    "plt.imshow(number.T, cmap=plt.get_cmap('viridis')) \n",
    "plt.grid();"
   ]
  },
  {
   "cell_type": "code",
   "execution_count": 201,
   "id": "25f3f9d4",
   "metadata": {},
   "outputs": [
    {
     "name": "stdout",
     "output_type": "stream",
     "text": [
      "(10, 400, 400)\n"
     ]
    }
   ],
   "source": [
    "training_digits=np.split(training_set,10)\n",
    "print(np.shape(training_digits))\n",
    "#initialize lists for storing the decompositions\n",
    "L_singular_vectors=[]\n",
    "Sigma_matrices=[]\n",
    "R_singular_vectors=[]\n",
    "\n",
    "#Compute the SVD for each digit and store the resulting matrices that form the decomposition in a new matrix \n",
    "for i in range(10):\n",
    "    #compute svd for the digit  i \n",
    "    U,S,V = np.linalg.svd(training_digits[i],full_matrices=False)\n",
    "    L_singular_vectors.append(U)\n",
    "    Sigma_matrices.append(S)# use np.diag(S) for nxn matrix of singular values \n",
    "    R_singular_vectors.append(V)\n",
    "\n",
    "#conver the lists to numpy arrays after storing all of the decompositions\n",
    "Us=np.array(L_singular_vectors).astype(float)\n",
    "Ss=np.array(Sigma_matrices).astype(float)\n",
    "Vs=np.array(R_singular_vectors).astype(float)\n",
    "\n"
   ]
  },
  {
   "cell_type": "code",
   "execution_count": 205,
   "id": "01363684",
   "metadata": {},
   "outputs": [
    {
     "name": "stdout",
     "output_type": "stream",
     "text": [
      "7.573264157048902\n",
      "5.285718860396183\n",
      "(10, 400, 400)\n",
      "(10, 400)\n",
      "(10, 400, 400)\n"
     ]
    }
   ],
   "source": [
    "#This structure allows us to use nested indicies to reference parts of the various svds computed\n",
    "# For instance the first unitary vector for digit 0 is Us[0][1] etc,\n",
    "\"\"\"\n",
    "plt.imshow(Us[1], cmap='hot', interpolation='nearest')\n",
    "plt.show()\n",
    "plt.imshow(Ss[1], cmap='hot', interpolation='nearest')\n",
    "plt.show()\n",
    "print(Ss[1])\n",
    "plt.imshow(Vs[1], cmap='hot', interpolation='nearest')\n",
    "plt.show()\n",
    "\"\"\"\n",
    "#test quality of svd by comparing norm of difference \n",
    "data_test=Us[0][1]*Ss[0][1]*Vs[0][1]\n",
    "test_norm=np.linalg.norm(data_test,2)\n",
    "control_norm=np.linalg.norm(training_digits[0][1],2)\n",
    "\n",
    "print(np.shape(Us))\n",
    "print(np.shape(Ss))\n",
    "print(np.shape(Vs))\n",
    "\n"
   ]
  },
  {
   "cell_type": "code",
   "execution_count": null,
   "id": "9c213972",
   "metadata": {},
   "outputs": [],
   "source": []
  }
 ],
 "metadata": {
  "kernelspec": {
   "display_name": "Python 3 (ipykernel)",
   "language": "python",
   "name": "python3"
  },
  "language_info": {
   "codemirror_mode": {
    "name": "ipython",
    "version": 3
   },
   "file_extension": ".py",
   "mimetype": "text/x-python",
   "name": "python",
   "nbconvert_exporter": "python",
   "pygments_lexer": "ipython3",
   "version": "3.9.5"
  }
 },
 "nbformat": 4,
 "nbformat_minor": 5
}
